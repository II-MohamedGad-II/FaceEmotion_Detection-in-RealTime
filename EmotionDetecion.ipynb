{
 "cells": [
  {
   "cell_type": "code",
   "execution_count": 1,
   "metadata": {},
   "outputs": [],
   "source": [
    "import tkinter as tk\n",
    "from keras.models import  load_model\n",
    "import face_recognition\n",
    "import cv2"
   ]
  },
  {
   "cell_type": "code",
   "execution_count": 22,
   "metadata": {},
   "outputs": [],
   "source": [
    "def start():\n",
    "    video_capture = cv2.VideoCapture(0)\n",
    "    \n",
    "    model = load_model(\"model/path.h5\")\n",
    "    label = ['happy','neutral','sad','surprise']\n",
    "    \n",
    "    while True:\n",
    "        ret, frame = video_capture.read()\n",
    "        if ret:\n",
    "            small_frame = cv2.resize(frame, (0, 0), fx=0.25, fy=0.25)\n",
    "            rgb_small_frame = cv2.cvtColor(small_frame, cv2.COLOR_BGR2RGB)\n",
    "    \n",
    "            face_locations = face_recognition.face_locations(rgb_small_frame)\n",
    "            \n",
    "\n",
    "\n",
    "    # Display the results\n",
    "        for (top, right, bottom, left) in face_locations:\n",
    "            top *= 4\n",
    "            right *= 4\n",
    "            bottom *= 4\n",
    "            left *= 4\n",
    "        \n",
    "            croped_img = frame[top: bottom, left:right,::-1]\n",
    "            grayscale_img = cv2.cvtColor(croped_img, cv2.COLOR_BGR2GRAY)\n",
    "        \n",
    "            reshaped_img = cv2.resize(grayscale_img, (48, 48))\n",
    "            reshaped_img = reshaped_img[:, :, np.newaxis]\n",
    "            reshaped_img = reshaped_img[np.newaxis, :, :, :]\n",
    "            face_img = reshaped_img/255\n",
    "        \n",
    "            cv2.rectangle(frame, (left, top), (right, bottom), (196, 140, 100), 2)\n",
    "        \n",
    "            pred = model.predict(face_img)\n",
    "            pred_label = label[pred.argmax()]\n",
    "        \n",
    "            cv2.rectangle(frame, (left, bottom - 35), (right, bottom), (0, 0, 255), cv2.FILLED)\n",
    "            font = cv2.FONT_HERSHEY_COMPLEX\n",
    "            cv2.putText(frame, pred_label, (left + 6, bottom - 6), font, 1.0, (255, 255, 255), 1)\n",
    "\n",
    "\n",
    "        cv2.imshow('Video', frame)\n",
    "        if cv2.waitKey(1) & 0xFF == ord('q'):\n",
    "            break\n",
    "\n",
    "    video_capture.release()\n",
    "    cv2.destroyAllWindows()"
   ]
  },
  {
   "cell_type": "code",
   "execution_count": null,
   "metadata": {},
   "outputs": [],
   "source": [
    "# Create the main window\n",
    "root = tk.Tk()\n",
    "root.title(\"Face Emotion\")\n",
    "root.geometry('510x300')\n",
    "root.configure(bg=\"lightblue\")\n",
    "\n",
    "\n",
    "def click():\n",
    "    print(\"Button clicked!\")\n",
    "\n",
    "label_text = tk.Label(root, text='''Now, By using this app it can classify your Emotion,\n",
    "And soon, you will be able to customize some ACTION \n",
    "happen depend on your current mood''', font= (\"Helvetica\", 15))\n",
    "label_text.pack(padx=10, pady=10)\n",
    "\n",
    "button = tk.Button(root, text=\"START!\", command= start, bg='blue', fg='lightgreen')\n",
    "button.pack(pady=10)\n",
    "\n",
    "canvas = tk.Canvas(root, width=200, height=100, bg= 'yellow')\n",
    "canvas.pack()\n",
    "\n",
    "\n",
    "root.mainloop()"
   ]
  },
  {
   "cell_type": "code",
   "execution_count": null,
   "metadata": {},
   "outputs": [],
   "source": []
  }
 ],
 "metadata": {
  "kernelspec": {
   "display_name": "Python 3 (ipykernel)",
   "language": "python",
   "name": "python3"
  },
  "language_info": {
   "codemirror_mode": {
    "name": "ipython",
    "version": 3
   },
   "file_extension": ".py",
   "mimetype": "text/x-python",
   "name": "python",
   "nbconvert_exporter": "python",
   "pygments_lexer": "ipython3",
   "version": "3.10.13"
  }
 },
 "nbformat": 4,
 "nbformat_minor": 4
}
